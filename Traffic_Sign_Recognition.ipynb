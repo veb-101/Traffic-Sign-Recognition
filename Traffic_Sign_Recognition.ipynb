{
  "nbformat": 4,
  "nbformat_minor": 0,
  "metadata": {
    "colab": {
      "name": "Traffic Sign Recognition.ipynb",
      "provenance": [],
      "collapsed_sections": []
    },
    "kernelspec": {
      "name": "python3",
      "display_name": "Python 3"
    },
    "accelerator": "GPU"
  },
  "cells": [
    {
      "cell_type": "code",
      "metadata": {
        "id": "LVaHmvRMB3Lv",
        "colab_type": "code",
        "outputId": "1a122222-6d74-4683-b672-3731bd076fd7",
        "colab": {
          "base_uri": "https://localhost:8080/",
          "height": 120
        }
      },
      "source": [
        "from google.colab import drive\n",
        "drive.mount('/gdrive')"
      ],
      "execution_count": 1,
      "outputs": [
        {
          "output_type": "stream",
          "text": [
            "Go to this URL in a browser: https://accounts.google.com/o/oauth2/auth?client_id=947318989803-6bn6qk8qdgf4n4g3pfee6491hc0brc4i.apps.googleusercontent.com&redirect_uri=urn%3aietf%3awg%3aoauth%3a2.0%3aoob&response_type=code&scope=email%20https%3a%2f%2fwww.googleapis.com%2fauth%2fdocs.test%20https%3a%2f%2fwww.googleapis.com%2fauth%2fdrive%20https%3a%2f%2fwww.googleapis.com%2fauth%2fdrive.photos.readonly%20https%3a%2f%2fwww.googleapis.com%2fauth%2fpeopleapi.readonly\n",
            "\n",
            "Enter your authorization code:\n",
            "··········\n",
            "Mounted at /gdrive\n"
          ],
          "name": "stdout"
        }
      ]
    },
    {
      "cell_type": "code",
      "metadata": {
        "id": "30a-SZ85C1QO",
        "colab_type": "code",
        "colab": {
          "base_uri": "https://localhost:8080/",
          "height": 33
        },
        "outputId": "1f22cdd5-f772-495a-c8e8-98233dafd9d7"
      },
      "source": [
        "from distutils.dir_util import copy_tree\n",
        "\n",
        "copy_tree(\"/gdrive/My Drive/Colab Notebooks/Traffic-signs\", \"/content/\")"
      ],
      "execution_count": 2,
      "outputs": [
        {
          "output_type": "execute_result",
          "data": {
            "text/plain": [
              "['/content/signnames.csv', '/content/kaggle.json']"
            ]
          },
          "metadata": {
            "tags": []
          },
          "execution_count": 2
        }
      ]
    },
    {
      "cell_type": "markdown",
      "metadata": {
        "id": "ujQEzkhv6_Mj",
        "colab_type": "text"
      },
      "source": [
        "# Dataset Download and Extraction from kaggle"
      ]
    },
    {
      "cell_type": "code",
      "metadata": {
        "id": "mIN4fQTXYR50",
        "colab_type": "code",
        "colab": {}
      },
      "source": [
        "!pip install kaggle -qU\n",
        "!mkdir ~/.kaggle"
      ],
      "execution_count": 0,
      "outputs": []
    },
    {
      "cell_type": "code",
      "metadata": {
        "id": "ZA2VR_7dfVmn",
        "colab_type": "code",
        "colab": {}
      },
      "source": [
        "!cp kaggle.json ~/.kaggle/\n",
        "!chmod 600 /root/.kaggle/kaggle.json"
      ],
      "execution_count": 0,
      "outputs": []
    },
    {
      "cell_type": "code",
      "metadata": {
        "id": "YxEPtFhGfVo3",
        "colab_type": "code",
        "outputId": "d682df13-6374-40c1-f1f1-c456031d2d2b",
        "colab": {
          "base_uri": "https://localhost:8080/",
          "height": 67
        }
      },
      "source": [
        "!kaggle datasets download -d meowmeowmeowmeowmeow/gtsrb-german-traffic-sign"
      ],
      "execution_count": 5,
      "outputs": [
        {
          "output_type": "stream",
          "text": [
            "Downloading gtsrb-german-traffic-sign.zip to /content\n",
            " 99% 604M/612M [00:10<00:00, 51.2MB/s]\n",
            "100% 612M/612M [00:11<00:00, 58.2MB/s]\n"
          ],
          "name": "stdout"
        }
      ]
    },
    {
      "cell_type": "code",
      "metadata": {
        "id": "5TYgUP3zfVrA",
        "colab_type": "code",
        "colab": {}
      },
      "source": [
        "from zipfile import ZipFile\n",
        "\n",
        "zip_file = ZipFile('/content/gtsrb-german-traffic-sign.zip', 'r')\n",
        "zip_file.extractall('/content/traffic')\n",
        "zip_file.close()"
      ],
      "execution_count": 0,
      "outputs": []
    },
    {
      "cell_type": "markdown",
      "metadata": {
        "id": "LlUaNiYa7WO5",
        "colab_type": "text"
      },
      "source": [
        "# Required libraries download "
      ]
    },
    {
      "cell_type": "code",
      "metadata": {
        "id": "mSe40P77hgj4",
        "colab_type": "code",
        "outputId": "a5a7f554-019b-4a1a-8b5b-01390ff8bcd1",
        "colab": {
          "base_uri": "https://localhost:8080/",
          "height": 84
        }
      },
      "source": [
        "!pip install -qU imgaug==0.2.6\n",
        "!pip install -qU opencv-contrib-python\n",
        "!pip install -qU scikit-image\n",
        "!pip install -qU imutils"
      ],
      "execution_count": 7,
      "outputs": [
        {
          "output_type": "stream",
          "text": [
            "\u001b[?25l\r\u001b[K     |▌                               | 10kB 21.5MB/s eta 0:00:01\r\u001b[K     |█                               | 20kB 4.2MB/s eta 0:00:01\r\u001b[K     |█▋                              | 30kB 5.3MB/s eta 0:00:01\r\u001b[K     |██                              | 40kB 5.4MB/s eta 0:00:01\r\u001b[K     |██▋                             | 51kB 4.8MB/s eta 0:00:01\r\u001b[K     |███▏                            | 61kB 5.2MB/s eta 0:00:01\r\u001b[K     |███▋                            | 71kB 5.7MB/s eta 0:00:01\r\u001b[K     |████▏                           | 81kB 6.2MB/s eta 0:00:01\r\u001b[K     |████▊                           | 92kB 6.1MB/s eta 0:00:01\r\u001b[K     |█████▏                          | 102kB 6.0MB/s eta 0:00:01\r\u001b[K     |█████▊                          | 112kB 6.0MB/s eta 0:00:01\r\u001b[K     |██████▎                         | 122kB 6.0MB/s eta 0:00:01\r\u001b[K     |██████▊                         | 133kB 6.0MB/s eta 0:00:01\r\u001b[K     |███████▎                        | 143kB 6.0MB/s eta 0:00:01\r\u001b[K     |███████▉                        | 153kB 6.0MB/s eta 0:00:01\r\u001b[K     |████████▎                       | 163kB 6.0MB/s eta 0:00:01\r\u001b[K     |████████▉                       | 174kB 6.0MB/s eta 0:00:01\r\u001b[K     |█████████▍                      | 184kB 6.0MB/s eta 0:00:01\r\u001b[K     |█████████▉                      | 194kB 6.0MB/s eta 0:00:01\r\u001b[K     |██████████▍                     | 204kB 6.0MB/s eta 0:00:01\r\u001b[K     |███████████                     | 215kB 6.0MB/s eta 0:00:01\r\u001b[K     |███████████▍                    | 225kB 6.0MB/s eta 0:00:01\r\u001b[K     |████████████                    | 235kB 6.0MB/s eta 0:00:01\r\u001b[K     |████████████▌                   | 245kB 6.0MB/s eta 0:00:01\r\u001b[K     |█████████████                   | 256kB 6.0MB/s eta 0:00:01\r\u001b[K     |█████████████▌                  | 266kB 6.0MB/s eta 0:00:01\r\u001b[K     |██████████████                  | 276kB 6.0MB/s eta 0:00:01\r\u001b[K     |██████████████▌                 | 286kB 6.0MB/s eta 0:00:01\r\u001b[K     |███████████████                 | 296kB 6.0MB/s eta 0:00:01\r\u001b[K     |███████████████▋                | 307kB 6.0MB/s eta 0:00:01\r\u001b[K     |████████████████                | 317kB 6.0MB/s eta 0:00:01\r\u001b[K     |████████████████▋               | 327kB 6.0MB/s eta 0:00:01\r\u001b[K     |█████████████████▏              | 337kB 6.0MB/s eta 0:00:01\r\u001b[K     |█████████████████▋              | 348kB 6.0MB/s eta 0:00:01\r\u001b[K     |██████████████████▏             | 358kB 6.0MB/s eta 0:00:01\r\u001b[K     |██████████████████▊             | 368kB 6.0MB/s eta 0:00:01\r\u001b[K     |███████████████████▏            | 378kB 6.0MB/s eta 0:00:01\r\u001b[K     |███████████████████▊            | 389kB 6.0MB/s eta 0:00:01\r\u001b[K     |████████████████████▎           | 399kB 6.0MB/s eta 0:00:01\r\u001b[K     |████████████████████▊           | 409kB 6.0MB/s eta 0:00:01\r\u001b[K     |█████████████████████▎          | 419kB 6.0MB/s eta 0:00:01\r\u001b[K     |█████████████████████▉          | 430kB 6.0MB/s eta 0:00:01\r\u001b[K     |██████████████████████▎         | 440kB 6.0MB/s eta 0:00:01\r\u001b[K     |██████████████████████▉         | 450kB 6.0MB/s eta 0:00:01\r\u001b[K     |███████████████████████▍        | 460kB 6.0MB/s eta 0:00:01\r\u001b[K     |███████████████████████▉        | 471kB 6.0MB/s eta 0:00:01\r\u001b[K     |████████████████████████▍       | 481kB 6.0MB/s eta 0:00:01\r\u001b[K     |█████████████████████████       | 491kB 6.0MB/s eta 0:00:01\r\u001b[K     |█████████████████████████▍      | 501kB 6.0MB/s eta 0:00:01\r\u001b[K     |██████████████████████████      | 512kB 6.0MB/s eta 0:00:01\r\u001b[K     |██████████████████████████▌     | 522kB 6.0MB/s eta 0:00:01\r\u001b[K     |███████████████████████████     | 532kB 6.0MB/s eta 0:00:01\r\u001b[K     |███████████████████████████▌    | 542kB 6.0MB/s eta 0:00:01\r\u001b[K     |████████████████████████████    | 552kB 6.0MB/s eta 0:00:01\r\u001b[K     |████████████████████████████▌   | 563kB 6.0MB/s eta 0:00:01\r\u001b[K     |█████████████████████████████   | 573kB 6.0MB/s eta 0:00:01\r\u001b[K     |█████████████████████████████▋  | 583kB 6.0MB/s eta 0:00:01\r\u001b[K     |██████████████████████████████  | 593kB 6.0MB/s eta 0:00:01\r\u001b[K     |██████████████████████████████▋ | 604kB 6.0MB/s eta 0:00:01\r\u001b[K     |███████████████████████████████▏| 614kB 6.0MB/s eta 0:00:01\r\u001b[K     |███████████████████████████████▋| 624kB 6.0MB/s eta 0:00:01\r\u001b[K     |████████████████████████████████| 634kB 6.0MB/s \n",
            "\u001b[?25h  Building wheel for imgaug (setup.py) ... \u001b[?25l\u001b[?25hdone\n",
            "\u001b[K     |████████████████████████████████| 34.2MB 83kB/s \n",
            "\u001b[K     |████████████████████████████████| 12.4MB 213kB/s \n",
            "\u001b[?25h"
          ],
          "name": "stdout"
        }
      ]
    },
    {
      "cell_type": "markdown",
      "metadata": {
        "id": "QU7_2hzI7uBW",
        "colab_type": "text"
      },
      "source": [
        "# Model Building"
      ]
    },
    {
      "cell_type": "code",
      "metadata": {
        "id": "YWdlOl8fnl9r",
        "colab_type": "code",
        "colab": {}
      },
      "source": [
        "from tensorflow.keras.layers import BatchNormalization\n",
        "from tensorflow.keras.layers import Conv2D\n",
        "from tensorflow.keras.layers import MaxPooling2D\n",
        "from tensorflow.keras.layers import Activation\n",
        "from tensorflow.keras.layers import Flatten\n",
        "from tensorflow.keras.layers import Dropout\n",
        "from tensorflow.keras.layers import Dense\n",
        "from tensorflow.keras.models import Sequential"
      ],
      "execution_count": 0,
      "outputs": []
    },
    {
      "cell_type": "code",
      "metadata": {
        "id": "i8GGat5XkY5d",
        "colab_type": "code",
        "colab": {}
      },
      "source": [
        "def build_model(width, height, depth, classes):\n",
        "    model = Sequential()\n",
        "    inputShape = (height, width, depth)\n",
        "    channelDim = -1\n",
        "    \n",
        "    model.add(Conv2D(8, (5, 5), padding=\"same\", input_shape=inputShape))\n",
        "    model.add(Activation(\"relu\"))\n",
        "    model.add(BatchNormalization(axis=channelDim))\n",
        "    model.add(MaxPooling2D(pool_size=(2, 2)))\n",
        "    \n",
        "    model.add(Conv2D(16, (3, 3), padding=\"same\", activation='relu'))\n",
        "    model.add(BatchNormalization(axis=channelDim))\n",
        "    model.add(Conv2D(16, (3, 3), padding=\"same\", activation='relu'))\n",
        "    model.add(BatchNormalization(axis=channelDim))\n",
        "    model.add(MaxPooling2D(pool_size=(2, 2)))\n",
        "    \n",
        "    model.add(Conv2D(32, (3, 3), padding=\"same\", activation='relu'))\n",
        "    model.add(BatchNormalization(axis=channelDim))\n",
        "    model.add(MaxPooling2D(pool_size=(2, 2)))\n",
        "    \n",
        "    # first set of FC => RELU layers\n",
        "    model.add(Flatten())\n",
        "    model.add(Dense(128, activation='relu'))\n",
        "    model.add(BatchNormalization())\n",
        "    model.add(Dropout(0.5))\n",
        "\n",
        "    # second set of FC => RELU layers\n",
        "    model.add(Flatten())\n",
        "    model.add(Dense(128, activation='relu'))\n",
        "    model.add(BatchNormalization())\n",
        "    model.add(Dropout(0.5))\n",
        "\n",
        "    # softmax classifier\n",
        "    model.add(Dense(classes, activation='relu'))\n",
        "    model.add(Activation(\"softmax\"))\n",
        "\n",
        "    return model\n",
        "    "
      ],
      "execution_count": 0,
      "outputs": []
    },
    {
      "cell_type": "markdown",
      "metadata": {
        "id": "KzkMeJvY8asQ",
        "colab_type": "text"
      },
      "source": [
        "# Image Preprocessing building data loader"
      ]
    },
    {
      "cell_type": "code",
      "metadata": {
        "id": "TTCP3Yvrpf_e",
        "colab_type": "code",
        "colab": {}
      },
      "source": [
        "import matplotlib\n",
        "matplotlib.use(\"Agg\")\n",
        "\n",
        "# import the necessary packages\n",
        "from tensorflow.keras.preprocessing.image import ImageDataGenerator\n",
        "from tensorflow.keras.optimizers import Adam\n",
        "from tensorflow.keras.utils import to_categorical\n",
        "\n",
        "from sklearn.metrics import classification_report\n",
        "\n",
        "from skimage import transform\n",
        "from skimage import exposure\n",
        "from skimage import io\n",
        "\n",
        "import matplotlib.pyplot as plt\n",
        "import numpy as np\n",
        "import random\n",
        "import os"
      ],
      "execution_count": 0,
      "outputs": []
    },
    {
      "cell_type": "code",
      "metadata": {
        "id": "UDMEbsvp8rZX",
        "colab_type": "code",
        "colab": {}
      },
      "source": [
        "def load_split(basePath, csvPath):\n",
        "    data = []\n",
        "    labels = []\n",
        "    rows = open(csvPath).read().strip().split(\"\\n\")[1:]\n",
        "    random.shuffle(rows)\n",
        "    \n",
        "    for i, row in enumerate(rows):\n",
        "        (label, imagePath) = row.strip().split(\",\")[-2:]\n",
        "        imagePath = os.path.sep.join([basePath, imagePath])\n",
        "        image = io.imread(imagePath)\n",
        "\n",
        "        # resize the image to be 32x32 pixels, ignoring aspect ratio,\n",
        "        # and then perform Contrast Limited Adaptive Histogram\n",
        "        # Equalization (CLAHE)\n",
        "        \n",
        "        image = transform.resize(image, (32, 32))\n",
        "        image = exposure.equalize_adapthist(image, clip_limit=0.1)\n",
        "\n",
        "        data.append(image)\n",
        "        labels.append(int(label))\n",
        "    \n",
        "    print(f\"Processed {i} total images\")\n",
        "        \n",
        "    data = np.array(data)\n",
        "    labels = np.array(labels)\n",
        "    \n",
        "    return (data, labels)"
      ],
      "execution_count": 0,
      "outputs": []
    },
    {
      "cell_type": "code",
      "metadata": {
        "id": "qDq4W1-H96me",
        "colab_type": "code",
        "colab": {}
      },
      "source": [
        "# constants\n",
        "\n",
        "NUM_EPOCHS = 30\n",
        "INIT_LR = 1e-3\n",
        "batch_size = 64"
      ],
      "execution_count": 0,
      "outputs": []
    },
    {
      "cell_type": "code",
      "metadata": {
        "id": "Y5y_6ehACHBc",
        "colab_type": "code",
        "colab": {}
      },
      "source": [
        "# load the label names\n",
        "\n",
        "labelNames = open(\"signnames.csv\").read().strip().split(\"\\n\")[1:]\n",
        "labelNames = [l.split(\",\")[1] for l in labelNames]\n",
        "\n",
        "dataset_path = r'/content/traffic'\n",
        "train_path = r\"/content/traffic/Train.csv\"\n",
        "test_path = r\"/content/traffic/Test.csv\""
      ],
      "execution_count": 0,
      "outputs": []
    },
    {
      "cell_type": "code",
      "metadata": {
        "id": "6HGx6rKrDkIB",
        "colab_type": "code",
        "outputId": "fb6db9ed-5cca-4906-dda5-2db474c75826",
        "colab": {
          "base_uri": "https://localhost:8080/",
          "height": 67
        }
      },
      "source": [
        "# load the training and testing data\n",
        "print(\"Loading training and testing data...\")\n",
        "(trainX, trainY) = load_split(dataset_path, train_path)\n",
        "(testX, testY) = load_split(dataset_path, test_path)"
      ],
      "execution_count": 14,
      "outputs": [
        {
          "output_type": "stream",
          "text": [
            "Loading training and testing data...\n",
            "Processed 39208 total images\n",
            "Processed 12629 total images\n"
          ],
          "name": "stdout"
        }
      ]
    },
    {
      "cell_type": "code",
      "metadata": {
        "id": "q_JPX-QTEh6A",
        "colab_type": "code",
        "colab": {}
      },
      "source": [
        "# scale the images to the range of [0, 1]\n",
        "\n",
        "trainX = trainX.astype(\"float32\") / 255.0\n",
        "testX = testX.astype(\"float32\") / 255.0"
      ],
      "execution_count": 0,
      "outputs": []
    },
    {
      "cell_type": "code",
      "metadata": {
        "id": "id_iZPaQWsK7",
        "colab_type": "code",
        "outputId": "3baae8c0-e70f-4c77-e682-dadab36d2a53",
        "colab": {
          "base_uri": "https://localhost:8080/",
          "height": 84
        }
      },
      "source": [
        "print(trainX.shape)\n",
        "print(trainY.shape)\n",
        "print(testX.shape)\n",
        "print(testY.shape)"
      ],
      "execution_count": 16,
      "outputs": [
        {
          "output_type": "stream",
          "text": [
            "(39209, 32, 32, 3)\n",
            "(39209,)\n",
            "(12630, 32, 32, 3)\n",
            "(12630,)\n"
          ],
          "name": "stdout"
        }
      ]
    },
    {
      "cell_type": "code",
      "metadata": {
        "id": "aHtV3wvIEO_D",
        "colab_type": "code",
        "outputId": "8e069dae-2878-417b-9b80-e8ac9911d585",
        "colab": {
          "base_uri": "https://localhost:8080/",
          "height": 33
        }
      },
      "source": [
        "# one-hot encode the training and testing labels\n",
        "\n",
        "numLabels = len(np.unique(trainY))\n",
        "print(numLabels)\n",
        "trainY = to_categorical(trainY, numLabels)\n",
        "testY = to_categorical(testY, numLabels)"
      ],
      "execution_count": 17,
      "outputs": [
        {
          "output_type": "stream",
          "text": [
            "43\n"
          ],
          "name": "stdout"
        }
      ]
    },
    {
      "cell_type": "code",
      "metadata": {
        "id": "YhnD1J44U-d3",
        "colab_type": "code",
        "outputId": "5f4e37fd-0118-402d-b803-d0124ecf9d25",
        "colab": {
          "base_uri": "https://localhost:8080/",
          "height": 50
        }
      },
      "source": [
        "print(trainY.shape)\n",
        "print(testY.shape)"
      ],
      "execution_count": 18,
      "outputs": [
        {
          "output_type": "stream",
          "text": [
            "(39209, 43)\n",
            "(12630, 43)\n"
          ],
          "name": "stdout"
        }
      ]
    },
    {
      "cell_type": "code",
      "metadata": {
        "id": "-gbemONOE7oB",
        "colab_type": "code",
        "colab": {}
      },
      "source": [
        "# accounting for skewness in the labeled data\n",
        "\n",
        "classTotals = trainY.sum(axis=0)\n",
        "# print(classTotals)\n",
        "classWeight = classTotals.max() / classTotals\n",
        "# print(classWeight)\n",
        "classWeight = {i: x for i, x  in enumerate(classWeight)}\n",
        "\n",
        "# for key, val in classWeight.items():\n",
        "#     print(key, val, end=\"||\")"
      ],
      "execution_count": 0,
      "outputs": []
    },
    {
      "cell_type": "code",
      "metadata": {
        "id": "nxUQ-ksME7qF",
        "colab_type": "code",
        "colab": {}
      },
      "source": [
        "# adding image augmentation\n",
        "\n",
        "train_datagen = ImageDataGenerator(\n",
        "    rotation_range=10,\n",
        "\tzoom_range=0.15,\n",
        "\twidth_shift_range=0.1,\n",
        "\theight_shift_range=0.1,\n",
        "\tshear_range=0.15,\n",
        "\thorizontal_flip=False,\n",
        "\tvertical_flip=False,\n",
        "\tfill_mode=\"nearest\"\n",
        ")\n",
        "\n",
        "train_generator = train_datagen.flow(trainX, trainY, batch_size=batch_size)"
      ],
      "execution_count": 0,
      "outputs": []
    },
    {
      "cell_type": "code",
      "metadata": {
        "id": "rXfyu-b0E7tb",
        "colab_type": "code",
        "colab": {}
      },
      "source": [
        "optimizer = Adam(lr=INIT_LR, decay=INIT_LR/(NUM_EPOCHS*0.5))\n",
        "\n",
        "model = build_model(width=32, height=32, depth=3, classes=numLabels)\n",
        "\n",
        "model.compile(loss=\"categorical_crossentropy\", optimizer=optimizer, metrics=['accuracy'])"
      ],
      "execution_count": 0,
      "outputs": []
    },
    {
      "cell_type": "code",
      "metadata": {
        "id": "-bCrfihPGWJl",
        "colab_type": "code",
        "outputId": "243575b6-1bea-4df0-f392-7e90333cf026",
        "colab": {
          "base_uri": "https://localhost:8080/",
          "height": 1000
        }
      },
      "source": [
        "# model Training\n",
        "\n",
        "history = model.fit(\n",
        "    train_generator,\n",
        "    steps_per_epoch=trainX.shape[0] // batch_size,\n",
        "    validation_data=(testX, testY),\n",
        "    epochs=NUM_EPOCHS,\n",
        "    class_weight=classWeight\n",
        ")"
      ],
      "execution_count": 22,
      "outputs": [
        {
          "output_type": "stream",
          "text": [
            "Epoch 1/30\n",
            "612/612 [==============================] - 28s 46ms/step - loss: 7.8462 - accuracy: 0.1686 - val_loss: 6.9659 - val_accuracy: 0.0391\n",
            "Epoch 2/30\n",
            "612/612 [==============================] - 27s 44ms/step - loss: 4.4272 - accuracy: 0.4238 - val_loss: 1.1214 - val_accuracy: 0.6496\n",
            "Epoch 3/30\n",
            "612/612 [==============================] - 27s 44ms/step - loss: 3.0761 - accuracy: 0.5539 - val_loss: 0.7651 - val_accuracy: 0.7528\n",
            "Epoch 4/30\n",
            "612/612 [==============================] - 32s 52ms/step - loss: 2.4304 - accuracy: 0.6309 - val_loss: 0.9052 - val_accuracy: 0.6838\n",
            "Epoch 5/30\n",
            "612/612 [==============================] - 27s 43ms/step - loss: 2.0064 - accuracy: 0.6893 - val_loss: 0.6013 - val_accuracy: 0.8029\n",
            "Epoch 6/30\n",
            "612/612 [==============================] - 27s 44ms/step - loss: 1.7189 - accuracy: 0.7297 - val_loss: 0.5102 - val_accuracy: 0.8154\n",
            "Epoch 7/30\n",
            "612/612 [==============================] - 27s 43ms/step - loss: 1.5024 - accuracy: 0.7634 - val_loss: 0.7703 - val_accuracy: 0.7385\n",
            "Epoch 8/30\n",
            "612/612 [==============================] - 27s 44ms/step - loss: 1.3204 - accuracy: 0.7886 - val_loss: 0.4132 - val_accuracy: 0.8596\n",
            "Epoch 9/30\n",
            "612/612 [==============================] - 27s 44ms/step - loss: 1.2053 - accuracy: 0.8070 - val_loss: 0.5261 - val_accuracy: 0.8266\n",
            "Epoch 10/30\n",
            "612/612 [==============================] - 27s 44ms/step - loss: 1.1043 - accuracy: 0.8228 - val_loss: 0.3507 - val_accuracy: 0.8817\n",
            "Epoch 11/30\n",
            "612/612 [==============================] - 27s 44ms/step - loss: 1.0290 - accuracy: 0.8339 - val_loss: 1.3697 - val_accuracy: 0.6182\n",
            "Epoch 12/30\n",
            "612/612 [==============================] - 27s 44ms/step - loss: 0.9614 - accuracy: 0.8448 - val_loss: 0.2934 - val_accuracy: 0.9056\n",
            "Epoch 13/30\n",
            "612/612 [==============================] - 27s 45ms/step - loss: 0.8723 - accuracy: 0.8577 - val_loss: 0.8134 - val_accuracy: 0.7618\n",
            "Epoch 14/30\n",
            "612/612 [==============================] - 27s 44ms/step - loss: 0.8432 - accuracy: 0.8638 - val_loss: 0.7340 - val_accuracy: 0.7746\n",
            "Epoch 15/30\n",
            "612/612 [==============================] - 27s 44ms/step - loss: 0.8301 - accuracy: 0.8647 - val_loss: 2.3973 - val_accuracy: 0.4612\n",
            "Epoch 16/30\n",
            "612/612 [==============================] - 27s 44ms/step - loss: 0.7872 - accuracy: 0.8747 - val_loss: 0.7393 - val_accuracy: 0.7739\n",
            "Epoch 17/30\n",
            "612/612 [==============================] - 27s 44ms/step - loss: 0.7284 - accuracy: 0.8826 - val_loss: 4.8073 - val_accuracy: 0.2409\n",
            "Epoch 18/30\n",
            "612/612 [==============================] - 27s 44ms/step - loss: 0.7126 - accuracy: 0.8837 - val_loss: 4.3320 - val_accuracy: 0.2364\n",
            "Epoch 19/30\n",
            "612/612 [==============================] - 27s 44ms/step - loss: 0.6957 - accuracy: 0.8876 - val_loss: 6.9901 - val_accuracy: 0.1607\n",
            "Epoch 20/30\n",
            "612/612 [==============================] - 27s 44ms/step - loss: 0.6513 - accuracy: 0.8920 - val_loss: 2.7279 - val_accuracy: 0.4268\n",
            "Epoch 21/30\n",
            "612/612 [==============================] - 27s 44ms/step - loss: 0.6372 - accuracy: 0.8982 - val_loss: 0.8080 - val_accuracy: 0.7770\n",
            "Epoch 22/30\n",
            "612/612 [==============================] - 27s 44ms/step - loss: 0.6262 - accuracy: 0.8983 - val_loss: 8.5197 - val_accuracy: 0.1023\n",
            "Epoch 23/30\n",
            "612/612 [==============================] - 27s 45ms/step - loss: 0.5752 - accuracy: 0.9048 - val_loss: 3.0410 - val_accuracy: 0.4371\n",
            "Epoch 24/30\n",
            "612/612 [==============================] - 27s 44ms/step - loss: 0.5711 - accuracy: 0.9067 - val_loss: 0.7008 - val_accuracy: 0.7956\n",
            "Epoch 25/30\n",
            "612/612 [==============================] - 28s 45ms/step - loss: 0.5620 - accuracy: 0.9091 - val_loss: 0.4628 - val_accuracy: 0.8650\n",
            "Epoch 26/30\n",
            "612/612 [==============================] - 27s 44ms/step - loss: 0.5579 - accuracy: 0.9101 - val_loss: 15.1307 - val_accuracy: 0.0298\n",
            "Epoch 27/30\n",
            "612/612 [==============================] - 27s 44ms/step - loss: 0.5544 - accuracy: 0.9099 - val_loss: 5.0769 - val_accuracy: 0.2410\n",
            "Epoch 28/30\n",
            "612/612 [==============================] - 27s 44ms/step - loss: 0.5212 - accuracy: 0.9142 - val_loss: 9.0163 - val_accuracy: 0.0968\n",
            "Epoch 29/30\n",
            "612/612 [==============================] - 27s 44ms/step - loss: 0.4993 - accuracy: 0.9182 - val_loss: 2.3320 - val_accuracy: 0.4926\n",
            "Epoch 30/30\n",
            "612/612 [==============================] - 27s 43ms/step - loss: 0.5029 - accuracy: 0.9193 - val_loss: 0.4847 - val_accuracy: 0.8557\n"
          ],
          "name": "stdout"
        }
      ]
    },
    {
      "cell_type": "code",
      "metadata": {
        "id": "i6FgVZAlLaCu",
        "colab_type": "code",
        "outputId": "239ec770-536d-4125-a4a3-dc147212dd59",
        "colab": {
          "base_uri": "https://localhost:8080/",
          "height": 853
        }
      },
      "source": [
        "# evaluate model\n",
        "\n",
        "predictions = model.predict(testX, batch_size=batch_size)\n",
        "print(classification_report(testY.argmax(axis=1), \n",
        "                            predictions.argmax(axis=1), target_names=labelNames))"
      ],
      "execution_count": 23,
      "outputs": [
        {
          "output_type": "stream",
          "text": [
            "                                                    precision    recall  f1-score   support\n",
            "\n",
            "                              Speed limit (20km/h)       0.36      1.00      0.52        60\n",
            "                              Speed limit (30km/h)       0.59      0.95      0.73       720\n",
            "                              Speed limit (50km/h)       0.81      0.63      0.71       750\n",
            "                              Speed limit (60km/h)       0.65      0.95      0.77       450\n",
            "                              Speed limit (70km/h)       0.95      0.90      0.92       660\n",
            "                              Speed limit (80km/h)       0.94      0.41      0.57       630\n",
            "                       End of speed limit (80km/h)       0.96      0.80      0.87       150\n",
            "                             Speed limit (100km/h)       0.96      0.67      0.79       450\n",
            "                             Speed limit (120km/h)       0.92      0.68      0.78       450\n",
            "                                        No passing       0.91      0.95      0.93       480\n",
            "      No passing for vehicles over 3.5 metric tons       1.00      0.86      0.93       660\n",
            "             Right-of-way at the next intersection       0.98      0.83      0.90       420\n",
            "                                     Priority road       1.00      0.94      0.97       690\n",
            "                                             Yield       0.96      1.00      0.98       720\n",
            "                                              Stop       0.99      1.00      0.99       270\n",
            "                                       No vehicles       0.82      0.98      0.89       210\n",
            "          Vehicles over 3.5 metric tons prohibited       0.99      0.99      0.99       150\n",
            "                                          No entry       1.00      0.84      0.91       360\n",
            "                                   General caution       0.90      0.82      0.86       390\n",
            "                       Dangerous curve to the left       0.80      1.00      0.89        60\n",
            "                      Dangerous curve to the right       0.83      0.79      0.81        90\n",
            "                                      Double curve       0.92      0.67      0.77        90\n",
            "                                        Bumpy road       0.94      0.86      0.90       120\n",
            "                                     Slippery road       0.81      0.88      0.84       150\n",
            "                         Road narrows on the right       0.64      0.97      0.77        90\n",
            "                                         Road work       0.71      0.97      0.82       480\n",
            "                                   Traffic signals       0.78      0.98      0.86       180\n",
            "                                       Pedestrians       0.61      0.57      0.59        60\n",
            "                                 Children crossing       0.79      0.98      0.87       150\n",
            "                                 Bicycles crossing       0.87      1.00      0.93        90\n",
            "                                Beware of ice/snow       0.88      0.48      0.62       150\n",
            "                             Wild animals crossing       0.98      0.87      0.92       270\n",
            "               End of all speed and passing limits       0.86      1.00      0.92        60\n",
            "                                  Turn right ahead       0.98      0.98      0.98       210\n",
            "                                   Turn left ahead       0.97      1.00      0.98       120\n",
            "                                        Ahead only       0.97      0.98      0.97       390\n",
            "                              Go straight or right       0.76      1.00      0.87       120\n",
            "                               Go straight or left       0.98      0.88      0.93        60\n",
            "                                        Keep right       1.00      0.92      0.96       690\n",
            "                                         Keep left       0.99      0.82      0.90        90\n",
            "                              Roundabout mandatory       0.68      0.97      0.80        90\n",
            "                                 End of no passing       0.56      0.98      0.71        60\n",
            "End of no passing by vehicles over 3.5 metric tons       0.72      0.73      0.73        90\n",
            "\n",
            "                                          accuracy                           0.86     12630\n",
            "                                         macro avg       0.85      0.87      0.85     12630\n",
            "                                      weighted avg       0.89      0.86      0.86     12630\n",
            "\n"
          ],
          "name": "stdout"
        }
      ]
    },
    {
      "cell_type": "code",
      "metadata": {
        "id": "qtykocrlctkg",
        "colab_type": "code",
        "outputId": "b942e0d2-e555-4c89-b5bf-9304717089e3",
        "colab": {
          "base_uri": "https://localhost:8080/",
          "height": 104
        }
      },
      "source": [
        "# saving model\n",
        "\n",
        "model.save(r\"output/trafficsignnet.model\")"
      ],
      "execution_count": 24,
      "outputs": [
        {
          "output_type": "stream",
          "text": [
            "WARNING:tensorflow:From /usr/local/lib/python3.6/dist-packages/tensorflow/python/ops/resource_variable_ops.py:1817: calling BaseResourceVariable.__init__ (from tensorflow.python.ops.resource_variable_ops) with constraint is deprecated and will be removed in a future version.\n",
            "Instructions for updating:\n",
            "If using Keras pass *_constraint arguments to layers.\n",
            "INFO:tensorflow:Assets written to: output/trafficsignnet.model/assets\n"
          ],
          "name": "stdout"
        }
      ]
    },
    {
      "cell_type": "code",
      "metadata": {
        "id": "9Vih7zMOdVB2",
        "colab_type": "code",
        "outputId": "4b80b6ff-0c88-4344-c1f8-da10d441dc9e",
        "colab": {
          "base_uri": "https://localhost:8080/",
          "height": 517
        }
      },
      "source": [
        "%matplotlib inline\n",
        "\n",
        "N = np.arange(0, NUM_EPOCHS)\n",
        "plt.style.use(\"ggplot\")\n",
        "plt.figure(figsize=(10, 8))\n",
        "plt.plot(N, history.history[\"loss\"], label=\"train_loss\")\n",
        "plt.plot(N, history.history[\"val_loss\"], label=\"val_loss\")\n",
        "plt.plot(N, history.history[\"accuracy\"], label=\"train_acc\")\n",
        "plt.plot(N, history.history[\"val_accuracy\"], label=\"val_acc\")\n",
        "plt.title(\"Training Loss and Accuracy on Dataset\")\n",
        "plt.xlabel(\"Epochs\")\n",
        "plt.ylabel(\"Loss/Accuracy\")\n",
        "plt.legend(loc=\"upper right\")\n",
        "plt.show()"
      ],
      "execution_count": 25,
      "outputs": [
        {
          "output_type": "display_data",
          "data": {
            "image/png": "[encoded data removed]",
            "text/plain": [
              "<Figure size 720x576 with 1 Axes>"
            ]
          },
          "metadata": {
            "tags": []
          }
        }
      ]
    },
    {
      "cell_type": "code",
      "metadata": {
        "id": "8WY-YzKmpFqV",
        "colab_type": "code",
        "colab": {}
      },
      "source": [
        "import shutil\n",
        "\n",
        "def copytree(src, dst, symlinks=False, ignore=None):\n",
        "    for item in os.listdir(src):\n",
        "        s = os.path.join(src, item)\n",
        "        d = os.path.join(dst, item)\n",
        "        if os.path.isdir(s):\n",
        "            shutil.copytree(s, d, symlinks, ignore)\n",
        "        else:\n",
        "            shutil.copy2(s, d)\n",
        "            \n",
        "copytree(r\"/content/output\", r\"/gdrive/My Drive/Colab Notebooks/Traffic-signs/output\")"
      ],
      "execution_count": 0,
      "outputs": []
    },
    {
      "cell_type": "markdown",
      "metadata": {
        "id": "6p9Fxtp5iRkd",
        "colab_type": "text"
      },
      "source": [
        "# Prediction on sample images"
      ]
    },
    {
      "cell_type": "code",
      "metadata": {
        "id": "p274P4-semQA",
        "colab_type": "code",
        "colab": {}
      },
      "source": [
        "from tensorflow.keras.models import load_model\n",
        "import cv2\n",
        "from imutils import paths\n",
        "import imutils\n",
        "from google.colab.patches import cv2_imshow"
      ],
      "execution_count": 0,
      "outputs": []
    },
    {
      "cell_type": "code",
      "metadata": {
        "id": "uhCXSy6wipCA",
        "colab_type": "code",
        "colab": {}
      },
      "source": [
        "saved_model_path = r\"output/trafficsignnet.model\"\n",
        "\n",
        "model = load_model(saved_model_path)"
      ],
      "execution_count": 0,
      "outputs": []
    },
    {
      "cell_type": "code",
      "metadata": {
        "id": "zJDrJXhfi9en",
        "colab_type": "code",
        "outputId": "93e5810c-efb9-4849-a3ed-d86124e49aa1",
        "colab": {
          "base_uri": "https://localhost:8080/",
          "height": 50
        }
      },
      "source": [
        "# load the label names\n",
        "labelNames = open(\"signnames.csv\").read().strip().split(\"\\n\")[1:]\n",
        "labelNames = [l.split(\",\")[1] for l in labelNames]\n",
        "\n",
        "# grab the paths to the input images, shuffle them, and grab a sample\n",
        "print(\"Predicting...\")\n",
        "imagePaths = list(paths.list_images('/content/traffic/Test'))\n",
        "random.shuffle(imagePaths)\n",
        "imagePaths = imagePaths[:25]\n",
        "for (i, imagePath) in enumerate(imagePaths):\n",
        "    image = io.imread(imagePath)\n",
        "    image = transform.resize(image, (32, 32))\n",
        "    image = exposure.equalize_adapthist(image, clip_limit=0.1)\n",
        "    image = image.astype(\"float32\") / 255.0\n",
        "    image = np.expand_dims(image, axis=0)\n",
        "    preds = model.predict(image)\n",
        "    j = preds.argmax(axis=1)[0]\n",
        "    label = labelNames[j]\n",
        "    image = cv2.imread(imagePath)\n",
        "    image = imutils.resize(image, width=128)\n",
        "    cv2.putText(image, label, (5, 15), cv2.FONT_HERSHEY_SIMPLEX, 0.45, (0, 0, 255), 2)\n",
        "    p = os.path.sep.join([r\"/content/examples\", f\"{i}.png\"])\n",
        "    cv2.imwrite(p, image)\n",
        "\n",
        "print(\"Done\")"
      ],
      "execution_count": 29,
      "outputs": [
        {
          "output_type": "stream",
          "text": [
            "Predicting...\n",
            "Done\n"
          ],
          "name": "stdout"
        }
      ]
    }
  ]
}